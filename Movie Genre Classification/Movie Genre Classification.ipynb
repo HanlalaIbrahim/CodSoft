{
 "cells": [
  {
   "cell_type": "code",
   "execution_count": 1,
   "metadata": {
    "id": "OW7LKZBks8Iw"
   },
   "outputs": [],
   "source": [
    "# Import necessary libraries\n",
    "import pandas as pd\n",
    "from sklearn.model_selection import train_test_split\n",
    "from sklearn.feature_extraction.text import TfidfVectorizer\n",
    "from sklearn.linear_model import LogisticRegression\n",
    "from sklearn.naive_bayes import MultinomialNB\n",
    "from sklearn.metrics import classification_report, accuracy_score\n",
    "import re"
   ]
  },
  {
   "cell_type": "code",
   "execution_count": 2,
   "metadata": {
    "id": "5WgCogsIs965"
   },
   "outputs": [],
   "source": [
    "# Function to preprocess text\n",
    "def preprocess_text(text):\n",
    "    text = text.lower()  # Lowercase text\n",
    "    text = re.sub(r'\\W', ' ', text)  # Remove non-word characters\n",
    "    text = re.sub(r'\\s+', ' ', text)  # Remove extra spaces\n",
    "    text = text.strip()  # Remove leading/trailing spaces\n",
    "    return text"
   ]
  },
  {
   "cell_type": "code",
   "execution_count": 3,
   "metadata": {
    "id": "Lw4i9O9Ptd9m"
   },
   "outputs": [],
   "source": [
    "# Load Dataset\n",
    "train_raw = 'train_data.csv'\n",
    "test_raw = 'test_data.csv'\n",
    "test_solution_raw = 'test_data_solution.csv'"
   ]
  },
  {
   "cell_type": "code",
   "execution_count": 4,
   "metadata": {
    "id": "iXc_jDGGthDH"
   },
   "outputs": [],
   "source": [
    "# Parse the raw data into custom formatted data\n",
    "train_data = pd.read_csv(train_raw, delimiter = ':::', engine = 'python', names=['ID', 'Title', 'genre', 'plot'])\n",
    "test_data = pd.read_csv(test_raw, delimiter = ':::', engine = 'python', names=['ID', 'Title', 'plot'])\n",
    "test_solution =  pd.read_csv(test_solution_raw, delimiter = ':::', engine = 'python', names=['ID', 'genre'])"
   ]
  },
  {
   "cell_type": "code",
   "execution_count": 5,
   "metadata": {
    "colab": {
     "base_uri": "https://localhost:8080/"
    },
    "id": "Hrm3UBCbuGpV",
    "outputId": "c9f923a3-4646-480e-cce0-cbffc284da11"
   },
   "outputs": [
    {
     "name": "stdout",
     "output_type": "stream",
     "text": [
      "Train Data Columns: Index(['ID', 'Title', 'genre', 'plot'], dtype='object')\n",
      "Test Data Columns: Index(['ID', 'Title', 'plot'], dtype='object')\n",
      "Test Solution Data Columns: Index(['ID', 'genre'], dtype='object')\n"
     ]
    }
   ],
   "source": [
    "# Print column names to verify\n",
    "print(\"Train Data Columns:\", train_data.columns)\n",
    "print(\"Test Data Columns:\", test_data.columns)\n",
    "print(\"Test Solution Data Columns:\", test_solution.columns)"
   ]
  },
  {
   "cell_type": "code",
   "execution_count": 6,
   "metadata": {
    "id": "aXdP4RDHtkWp"
   },
   "outputs": [],
   "source": [
    "# Preprocess the text data\n",
    "train_data['plot'] = train_data['plot'].apply(preprocess_text)\n",
    "test_data['plot'] = test_data['plot'].apply(preprocess_text)"
   ]
  },
  {
   "cell_type": "code",
   "execution_count": 7,
   "metadata": {
    "id": "ZnheGUzktnEZ"
   },
   "outputs": [],
   "source": [
    "# Extracting the true labels for test data\n",
    "y_test = test_solution['genre'].astype('category')"
   ]
  },
  {
   "cell_type": "code",
   "execution_count": 8,
   "metadata": {
    "id": "1KwCLlMEtpYJ"
   },
   "outputs": [],
   "source": [
    "vectorizer = TfidfVectorizer()\n",
    "X_train_tfidf = vectorizer.fit_transform(train_data['plot'])\n",
    "X_test_tfidf = vectorizer.transform(test_data['plot'])"
   ]
  },
  {
   "cell_type": "code",
   "execution_count": 9,
   "metadata": {
    "id": "K_xMyKO4tuf8"
   },
   "outputs": [],
   "source": [
    "# Extracting the labels for training data\n",
    "y_train = test_solution['genre'].astype('category')"
   ]
  },
  {
   "cell_type": "code",
   "execution_count": 10,
   "metadata": {
    "id": "cT9f-DTdtyZi"
   },
   "outputs": [],
   "source": [
    "# Train and evaluate Logistic Regression\n",
    "lr_clf = LogisticRegression(max_iter=200)\n",
    "lr_clf.fit(X_train_tfidf, y_train)\n",
    "y_pred_lr = lr_clf.predict(X_test_tfidf)"
   ]
  },
  {
   "cell_type": "code",
   "execution_count": 11,
   "metadata": {
    "colab": {
     "base_uri": "https://localhost:8080/"
    },
    "id": "8jyxZ4jot09-",
    "outputId": "60b7677e-a0c8-44b4-99e1-510ee1716560"
   },
   "outputs": [
    {
     "name": "stdout",
     "output_type": "stream",
     "text": [
      "Dataset - Logistic Regression:\n",
      "Accuracy: 0.0006666666666666666\n"
     ]
    }
   ],
   "source": [
    "print(\"Dataset - Logistic Regression:\")\n",
    "print(\"Accuracy:\", accuracy_score(y_test, y_pred_lr))"
   ]
  },
  {
   "cell_type": "code",
   "execution_count": 12,
   "metadata": {
    "id": "TTU1dnq9t6fc"
   },
   "outputs": [],
   "source": [
    "# Train and evaluate Naive Bayes\n",
    "nb_clf = MultinomialNB()\n",
    "nb_clf.fit(X_train_tfidf, y_train)\n",
    "y_pred_nb = nb_clf.predict(X_test_tfidf)"
   ]
  },
  {
   "cell_type": "code",
   "execution_count": 13,
   "metadata": {
    "id": "5HmDdpH_t729"
   },
   "outputs": [
    {
     "name": "stdout",
     "output_type": "stream",
     "text": [
      "Dataset - Naive Bayes:\n",
      "Accuracy: 0.0006666666666666666\n"
     ]
    }
   ],
   "source": [
    "print(\"Dataset - Naive Bayes:\")\n",
    "print(\"Accuracy:\", accuracy_score(y_test, y_pred_nb))"
   ]
  },
  {
   "cell_type": "code",
   "execution_count": null,
   "metadata": {},
   "outputs": [],
   "source": []
  }
 ],
 "metadata": {
  "colab": {
   "provenance": []
  },
  "kernelspec": {
   "display_name": "Python 3 (ipykernel)",
   "language": "python",
   "name": "python3"
  },
  "language_info": {
   "codemirror_mode": {
    "name": "ipython",
    "version": 3
   },
   "file_extension": ".py",
   "mimetype": "text/x-python",
   "name": "python",
   "nbconvert_exporter": "python",
   "pygments_lexer": "ipython3",
   "version": "3.10.10"
  }
 },
 "nbformat": 4,
 "nbformat_minor": 1
}
